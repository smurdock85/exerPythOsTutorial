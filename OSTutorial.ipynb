{
 "cells": [
  {
   "cell_type": "code",
   "execution_count": null,
   "source": [
    "## To-DO\n",
    "# * Execute code examples in separate cells.\n",
    "  # * import os\n",
    "  # * print(dir(os))\n",
    "  #* print(os.getcwd())\n",
    "  # os.chdir()\n",
    "  # os.listdir()\n",
    "  # os.mkdir() - make a new directory folder in the repository\n",
    "  # os.makedirs() - make a new directory with a subdirectory in the repository\n",
    "  # os.rmdir() - remove the new directory\n",
    "  # os.removedirs() - remove the new directory with subdirectory\n",
    "  # os.rename()\n",
    "  # print(os.stat())\n",
    "  # from datetime import datetime\n",
    "  # print(datetime.fromtimestamp())\n",
    "  # os.walk()\n",
    "  # print(os.environ.get('HOME'))\n",
    "  # os.path.join()\n",
    "  # os.path.basename()\n",
    "  # os.path.dirname()\n",
    "  # os.path.split()\n",
    "  # os.path.exists()\n",
    "  # os.path.isdir()\n",
    "  # os.path.isfile()\n",
    "  # os.path.splitext()\n",
    "  # add a comment in a cell with a url for official Python documentation (not shown in the video - Google it)\n",
    "  # add a comment in a cell with a url for a tutorial on the OS module in the official documentation (not shown in the video - look through the documentation to find it)"
   ],
   "outputs": [],
   "metadata": {}
  },
  {
   "cell_type": "code",
   "execution_count": null,
   "source": [
    "import os\n",
    "\n",
    "print(dir(os)) \n",
    "\n",
    "print(os.getcwd())\n",
    "\n",
    "# Get current working directory\n",
    "os.getcwd()\n",
    "\n",
    "# Change directory, this requires a path to change to\n",
    "os.chdir(path)\n",
    "\n",
    "# List directory, you can pass a path, but by default it is in the current directory\n",
    "os.listdir()"
   ],
   "outputs": [],
   "metadata": {}
  },
  {
   "cell_type": "code",
   "execution_count": null,
   "source": [
    "# Creating directories\n",
    "mkdir()  # Use for making one directory\n",
    "makedirs(). # Use if you want to create multiple directories at once\n",
    "\n",
    "# Remove directories\n",
    "rmdir(file). # Recommended use case\n",
    "removedirs(file)  # Removes intermediate directories if specified\n",
    "\n",
    "# Rename a file or folder\n",
    "os.rename(‘test.txt’, ‘demo.txt’). # This renames text.txt to demo.txt"
   ],
   "outputs": [],
   "metadata": {}
  },
  {
   "cell_type": "code",
   "execution_count": null,
   "source": [
    "# Info about files\n",
    "os.stat(test.txt)\n",
    "\n",
    "for dirpath, dirnames, filenames in os.walk(routepath): \n",
    "    print(‘Current Path:’, dirpath)\n",
    "    print(‘Directories:’, dirnames)\n",
    "    print(‘Files:’, filenames)\n",
    "    print()\n",
    "\n",
    "# Access home directory location by grabbing home environment variable\n",
    "os.environ.get(‘HOME’). # Returns a path\n",
    "\n",
    "# To properly join two files together use os.path.join()\n",
    "file_path = os.path.join(os.environ.get(‘HOME’), ‘test.txt’)\n",
    "\n",
    "## os.path has other useful methods\n",
    "\n",
    "os.path.basename\n",
    "# This will grab filename of any path we are working on"
   ],
   "outputs": [],
   "metadata": {}
  },
  {
   "cell_type": "code",
   "execution_count": null,
   "source": [
    "os.path.dirname(‘/tmp/test.txt’)\n",
    "# returns the directory /tmp\n",
    "\n",
    "os.path.split(‘/tmp/test.txt’)\n",
    "# returns both the directory and the file as a tuple\n",
    "\n",
    "os.path.exists(‘/tmp/test.txt’)\n",
    "# returns a boolean\n",
    "\n",
    "os.path.isdir(‘/tmp/test.txt’)\n",
    "# returns False\n",
    "\n",
    "os.path.isfile(‘/tmp/test.txt’)\n",
    "# returns True\n",
    "\n",
    "os.path.splitext(‘/tmp/test.txt’)\n",
    "# Splits file route of the path and the extension\n",
    "\n",
    "# source doc \n",
    "# https://docs.python.org/3/ \n",
    "\n",
    "# Tutorial on OS\n",
    "# https://docs.python.org/3/tutorial/stdlib.html "
   ],
   "outputs": [],
   "metadata": {}
  }
 ],
 "metadata": {
  "orig_nbformat": 4,
  "language_info": {
   "name": "python"
  }
 },
 "nbformat": 4,
 "nbformat_minor": 2
}